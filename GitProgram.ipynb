{
 "cells": [
  {
   "cell_type": "code",
   "execution_count": 3,
   "id": "4c287e89-98b1-4021-a093-1a1530beabb6",
   "metadata": {},
   "outputs": [
    {
     "name": "stdout",
     "output_type": "stream",
     "text": [
      "The sum of 1 and 2 is 3\n",
      "The divided result is 0.5\n"
     ]
    }
   ],
   "source": [
    "inp1= int(input(\"Please enter your first number\"))\n",
    "inp2=int(input(\"Please enter your second number\"))\n",
    "\n",
    "result= inp1+inp2\n",
    "result2= (inp1/inp2)\n",
    "\n",
    "print(f\"The sum of {inp1} and {inp2} is {result}\")\n",
    "print(f\"The divided result is {result2}\")"
   ]
  },
  {
   "cell_type": "code",
   "execution_count": null,
   "id": "3e04159b-30a9-4885-a4cf-1787190d33ec",
   "metadata": {},
   "outputs": [],
   "source": []
  }
 ],
 "metadata": {
  "kernelspec": {
   "display_name": "cmpinf0010",
   "language": "python",
   "name": "python3"
  },
  "language_info": {
   "codemirror_mode": {
    "name": "ipython",
    "version": 3
   },
   "file_extension": ".py",
   "mimetype": "text/x-python",
   "name": "python",
   "nbconvert_exporter": "python",
   "pygments_lexer": "ipython3",
   "version": "3.12.5"
  }
 },
 "nbformat": 4,
 "nbformat_minor": 5
}
